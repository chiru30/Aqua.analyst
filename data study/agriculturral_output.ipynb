{
 "cells": [
  {
   "cell_type": "code",
   "execution_count": 2,
   "metadata": {},
   "outputs": [],
   "source": [
    "import numpy as np \n",
    "import pandas as pd \n",
    "import matplotlib.pyplot as plt\n",
    "import seaborn as sns\n"
   ]
  },
  {
   "cell_type": "code",
   "execution_count": 3,
   "metadata": {},
   "outputs": [],
   "source": [
    "agri=pd.read_csv(\"agriculture.csv\")"
   ]
  },
  {
   "cell_type": "code",
   "execution_count": 4,
   "metadata": {},
   "outputs": [
    {
     "data": {
      "text/html": [
       "<div>\n",
       "<style scoped>\n",
       "    .dataframe tbody tr th:only-of-type {\n",
       "        vertical-align: middle;\n",
       "    }\n",
       "\n",
       "    .dataframe tbody tr th {\n",
       "        vertical-align: top;\n",
       "    }\n",
       "\n",
       "    .dataframe thead th {\n",
       "        text-align: right;\n",
       "    }\n",
       "</style>\n",
       "<table border=\"1\" class=\"dataframe\">\n",
       "  <thead>\n",
       "    <tr style=\"text-align: right;\">\n",
       "      <th></th>\n",
       "      <th>Unnamed: 0</th>\n",
       "      <th>State</th>\n",
       "      <th>B.O.D. (mg/l) : Mean : &lt; 3 mg/l</th>\n",
       "      <th>CONDUCTIVITY (µmhos/cm) : Mean</th>\n",
       "      <th>FECAL COLIFORM (MPN/100ml) : Mean : &lt; 2500 MPN/100ml</th>\n",
       "      <th>NITRATE- N+ NITRITE-N (mg/l) : Mean</th>\n",
       "      <th>TEMPERATURE ºC : Mean</th>\n",
       "      <th>TOTAL COLIFORM (MPN/100ml) : Mean : &lt; 5000 MPN/100ml</th>\n",
       "      <th>pH : Mean : 6.5-8.5</th>\n",
       "      <th>B.O.D. (mg/l) : Mean : &lt; 3 mg/l_imp</th>\n",
       "      <th>CONDUCTIVITY (µmhos/cm) : Mean_imp</th>\n",
       "      <th>FECAL COLIFORM (MPN/100ml) : Mean : &lt; 2500 MPN/100ml_imp</th>\n",
       "      <th>TEMPERATURE ºC : Mean_imp</th>\n",
       "      <th>TOTAL COLIFORM (MPN/100ml) : Mean : &lt; 5000 MPN/100ml_imp</th>\n",
       "      <th>Agricultural Output</th>\n",
       "    </tr>\n",
       "  </thead>\n",
       "  <tbody>\n",
       "    <tr>\n",
       "      <th>0</th>\n",
       "      <td>NaN</td>\n",
       "      <td>assam</td>\n",
       "      <td>1.322581</td>\n",
       "      <td>620.419355</td>\n",
       "      <td>236.645161</td>\n",
       "      <td>2.919355</td>\n",
       "      <td>24.258065</td>\n",
       "      <td>3947.258065</td>\n",
       "      <td>6.509677</td>\n",
       "      <td>1.322581</td>\n",
       "      <td>620.419355</td>\n",
       "      <td>236.645161</td>\n",
       "      <td>24.258065</td>\n",
       "      <td>3947.258065</td>\n",
       "      <td>2.615415</td>\n",
       "    </tr>\n",
       "    <tr>\n",
       "      <th>1</th>\n",
       "      <td>NaN</td>\n",
       "      <td>bihar</td>\n",
       "      <td>2.738510</td>\n",
       "      <td>926.022177</td>\n",
       "      <td>235.790368</td>\n",
       "      <td>0.000000</td>\n",
       "      <td>24.560976</td>\n",
       "      <td>825.871095</td>\n",
       "      <td>7.478049</td>\n",
       "      <td>2.623894</td>\n",
       "      <td>922.836645</td>\n",
       "      <td>243.963583</td>\n",
       "      <td>24.560976</td>\n",
       "      <td>899.515502</td>\n",
       "      <td>4.479981</td>\n",
       "    </tr>\n",
       "    <tr>\n",
       "      <th>2</th>\n",
       "      <td>NaN</td>\n",
       "      <td>chattissgarh</td>\n",
       "      <td>1.422900</td>\n",
       "      <td>894.067544</td>\n",
       "      <td>942.257318</td>\n",
       "      <td>0.490000</td>\n",
       "      <td>27.066654</td>\n",
       "      <td>415.843538</td>\n",
       "      <td>7.310000</td>\n",
       "      <td>1.404779</td>\n",
       "      <td>893.665784</td>\n",
       "      <td>1088.834101</td>\n",
       "      <td>27.067244</td>\n",
       "      <td>419.123729</td>\n",
       "      <td>1.692436</td>\n",
       "    </tr>\n",
       "  </tbody>\n",
       "</table>\n",
       "</div>"
      ],
      "text/plain": [
       "   Unnamed: 0         State  B.O.D. (mg/l) : Mean : < 3 mg/l  \\\n",
       "0         NaN         assam                         1.322581   \n",
       "1         NaN         bihar                         2.738510   \n",
       "2         NaN  chattissgarh                         1.422900   \n",
       "\n",
       "   CONDUCTIVITY (µmhos/cm) : Mean  \\\n",
       "0                      620.419355   \n",
       "1                      926.022177   \n",
       "2                      894.067544   \n",
       "\n",
       "   FECAL COLIFORM (MPN/100ml) : Mean : < 2500 MPN/100ml  \\\n",
       "0                                         236.645161      \n",
       "1                                         235.790368      \n",
       "2                                         942.257318      \n",
       "\n",
       "   NITRATE- N+ NITRITE-N (mg/l) : Mean  TEMPERATURE ºC : Mean  \\\n",
       "0                             2.919355              24.258065   \n",
       "1                             0.000000              24.560976   \n",
       "2                             0.490000              27.066654   \n",
       "\n",
       "   TOTAL COLIFORM (MPN/100ml) : Mean : < 5000 MPN/100ml  pH : Mean : 6.5-8.5  \\\n",
       "0                                        3947.258065                6.509677   \n",
       "1                                         825.871095                7.478049   \n",
       "2                                         415.843538                7.310000   \n",
       "\n",
       "   B.O.D. (mg/l) : Mean : < 3 mg/l_imp  CONDUCTIVITY (µmhos/cm) : Mean_imp  \\\n",
       "0                             1.322581                          620.419355   \n",
       "1                             2.623894                          922.836645   \n",
       "2                             1.404779                          893.665784   \n",
       "\n",
       "   FECAL COLIFORM (MPN/100ml) : Mean : < 2500 MPN/100ml_imp  \\\n",
       "0                                         236.645161          \n",
       "1                                         243.963583          \n",
       "2                                        1088.834101          \n",
       "\n",
       "   TEMPERATURE ºC : Mean_imp  \\\n",
       "0                  24.258065   \n",
       "1                  24.560976   \n",
       "2                  27.067244   \n",
       "\n",
       "   TOTAL COLIFORM (MPN/100ml) : Mean : < 5000 MPN/100ml_imp  \\\n",
       "0                                        3947.258065          \n",
       "1                                         899.515502          \n",
       "2                                         419.123729          \n",
       "\n",
       "   Agricultural Output  \n",
       "0             2.615415  \n",
       "1             4.479981  \n",
       "2             1.692436  "
      ]
     },
     "execution_count": 4,
     "metadata": {},
     "output_type": "execute_result"
    }
   ],
   "source": [
    "agri.head(3)"
   ]
  },
  {
   "cell_type": "code",
   "execution_count": 5,
   "metadata": {},
   "outputs": [
    {
     "data": {
      "text/plain": [
       "Index(['Unnamed: 0', 'State', 'B.O.D. (mg/l) : Mean : < 3 mg/l',\n",
       "       'CONDUCTIVITY (µmhos/cm) : Mean',\n",
       "       'FECAL COLIFORM (MPN/100ml) : Mean : < 2500 MPN/100ml',\n",
       "       'NITRATE- N+ NITRITE-N (mg/l) : Mean', 'TEMPERATURE ºC : Mean',\n",
       "       'TOTAL COLIFORM (MPN/100ml) : Mean : < 5000 MPN/100ml',\n",
       "       'pH : Mean : 6.5-8.5', 'B.O.D. (mg/l) : Mean : < 3 mg/l_imp',\n",
       "       'CONDUCTIVITY (µmhos/cm) : Mean_imp',\n",
       "       'FECAL COLIFORM (MPN/100ml) : Mean : < 2500 MPN/100ml_imp',\n",
       "       'TEMPERATURE ºC : Mean_imp',\n",
       "       'TOTAL COLIFORM (MPN/100ml) : Mean : < 5000 MPN/100ml_imp',\n",
       "       'Agricultural Output'],\n",
       "      dtype='object')"
      ]
     },
     "execution_count": 5,
     "metadata": {},
     "output_type": "execute_result"
    }
   ],
   "source": [
    "agri.columns"
   ]
  },
  {
   "cell_type": "code",
   "execution_count": 6,
   "metadata": {},
   "outputs": [],
   "source": [
    "agri.drop(['Unnamed: 0'],axis=1,inplace=True)"
   ]
  },
  {
   "cell_type": "code",
   "execution_count": 7,
   "metadata": {},
   "outputs": [
    {
     "data": {
      "text/html": [
       "<div>\n",
       "<style scoped>\n",
       "    .dataframe tbody tr th:only-of-type {\n",
       "        vertical-align: middle;\n",
       "    }\n",
       "\n",
       "    .dataframe tbody tr th {\n",
       "        vertical-align: top;\n",
       "    }\n",
       "\n",
       "    .dataframe thead th {\n",
       "        text-align: right;\n",
       "    }\n",
       "</style>\n",
       "<table border=\"1\" class=\"dataframe\">\n",
       "  <thead>\n",
       "    <tr style=\"text-align: right;\">\n",
       "      <th></th>\n",
       "      <th>State</th>\n",
       "      <th>B.O.D. (mg/l) : Mean : &lt; 3 mg/l</th>\n",
       "      <th>CONDUCTIVITY (µmhos/cm) : Mean</th>\n",
       "      <th>FECAL COLIFORM (MPN/100ml) : Mean : &lt; 2500 MPN/100ml</th>\n",
       "      <th>NITRATE- N+ NITRITE-N (mg/l) : Mean</th>\n",
       "      <th>TEMPERATURE ºC : Mean</th>\n",
       "      <th>TOTAL COLIFORM (MPN/100ml) : Mean : &lt; 5000 MPN/100ml</th>\n",
       "      <th>pH : Mean : 6.5-8.5</th>\n",
       "      <th>B.O.D. (mg/l) : Mean : &lt; 3 mg/l_imp</th>\n",
       "      <th>CONDUCTIVITY (µmhos/cm) : Mean_imp</th>\n",
       "      <th>FECAL COLIFORM (MPN/100ml) : Mean : &lt; 2500 MPN/100ml_imp</th>\n",
       "      <th>TEMPERATURE ºC : Mean_imp</th>\n",
       "      <th>TOTAL COLIFORM (MPN/100ml) : Mean : &lt; 5000 MPN/100ml_imp</th>\n",
       "      <th>Agricultural Output</th>\n",
       "    </tr>\n",
       "  </thead>\n",
       "  <tbody>\n",
       "    <tr>\n",
       "      <th>0</th>\n",
       "      <td>assam</td>\n",
       "      <td>1.322581</td>\n",
       "      <td>620.419355</td>\n",
       "      <td>236.645161</td>\n",
       "      <td>2.919355</td>\n",
       "      <td>24.258065</td>\n",
       "      <td>3947.258065</td>\n",
       "      <td>6.509677</td>\n",
       "      <td>1.322581</td>\n",
       "      <td>620.419355</td>\n",
       "      <td>236.645161</td>\n",
       "      <td>24.258065</td>\n",
       "      <td>3947.258065</td>\n",
       "      <td>2.615415</td>\n",
       "    </tr>\n",
       "    <tr>\n",
       "      <th>1</th>\n",
       "      <td>bihar</td>\n",
       "      <td>2.738510</td>\n",
       "      <td>926.022177</td>\n",
       "      <td>235.790368</td>\n",
       "      <td>0.000000</td>\n",
       "      <td>24.560976</td>\n",
       "      <td>825.871095</td>\n",
       "      <td>7.478049</td>\n",
       "      <td>2.623894</td>\n",
       "      <td>922.836645</td>\n",
       "      <td>243.963583</td>\n",
       "      <td>24.560976</td>\n",
       "      <td>899.515502</td>\n",
       "      <td>4.479981</td>\n",
       "    </tr>\n",
       "    <tr>\n",
       "      <th>2</th>\n",
       "      <td>chattissgarh</td>\n",
       "      <td>1.422900</td>\n",
       "      <td>894.067544</td>\n",
       "      <td>942.257318</td>\n",
       "      <td>0.490000</td>\n",
       "      <td>27.066654</td>\n",
       "      <td>415.843538</td>\n",
       "      <td>7.310000</td>\n",
       "      <td>1.404779</td>\n",
       "      <td>893.665784</td>\n",
       "      <td>1088.834101</td>\n",
       "      <td>27.067244</td>\n",
       "      <td>419.123729</td>\n",
       "      <td>1.692436</td>\n",
       "    </tr>\n",
       "  </tbody>\n",
       "</table>\n",
       "</div>"
      ],
      "text/plain": [
       "          State  B.O.D. (mg/l) : Mean : < 3 mg/l  \\\n",
       "0         assam                         1.322581   \n",
       "1         bihar                         2.738510   \n",
       "2  chattissgarh                         1.422900   \n",
       "\n",
       "   CONDUCTIVITY (µmhos/cm) : Mean  \\\n",
       "0                      620.419355   \n",
       "1                      926.022177   \n",
       "2                      894.067544   \n",
       "\n",
       "   FECAL COLIFORM (MPN/100ml) : Mean : < 2500 MPN/100ml  \\\n",
       "0                                         236.645161      \n",
       "1                                         235.790368      \n",
       "2                                         942.257318      \n",
       "\n",
       "   NITRATE- N+ NITRITE-N (mg/l) : Mean  TEMPERATURE ºC : Mean  \\\n",
       "0                             2.919355              24.258065   \n",
       "1                             0.000000              24.560976   \n",
       "2                             0.490000              27.066654   \n",
       "\n",
       "   TOTAL COLIFORM (MPN/100ml) : Mean : < 5000 MPN/100ml  pH : Mean : 6.5-8.5  \\\n",
       "0                                        3947.258065                6.509677   \n",
       "1                                         825.871095                7.478049   \n",
       "2                                         415.843538                7.310000   \n",
       "\n",
       "   B.O.D. (mg/l) : Mean : < 3 mg/l_imp  CONDUCTIVITY (µmhos/cm) : Mean_imp  \\\n",
       "0                             1.322581                          620.419355   \n",
       "1                             2.623894                          922.836645   \n",
       "2                             1.404779                          893.665784   \n",
       "\n",
       "   FECAL COLIFORM (MPN/100ml) : Mean : < 2500 MPN/100ml_imp  \\\n",
       "0                                         236.645161          \n",
       "1                                         243.963583          \n",
       "2                                        1088.834101          \n",
       "\n",
       "   TEMPERATURE ºC : Mean_imp  \\\n",
       "0                  24.258065   \n",
       "1                  24.560976   \n",
       "2                  27.067244   \n",
       "\n",
       "   TOTAL COLIFORM (MPN/100ml) : Mean : < 5000 MPN/100ml_imp  \\\n",
       "0                                        3947.258065          \n",
       "1                                         899.515502          \n",
       "2                                         419.123729          \n",
       "\n",
       "   Agricultural Output  \n",
       "0             2.615415  \n",
       "1             4.479981  \n",
       "2             1.692436  "
      ]
     },
     "execution_count": 7,
     "metadata": {},
     "output_type": "execute_result"
    }
   ],
   "source": [
    "agri.head(3)"
   ]
  },
  {
   "cell_type": "code",
   "execution_count": 8,
   "metadata": {},
   "outputs": [
    {
     "data": {
      "text/plain": [
       "State                                                       0\n",
       "B.O.D. (mg/l) : Mean : < 3 mg/l                             0\n",
       "CONDUCTIVITY (µmhos/cm) : Mean                              0\n",
       "FECAL COLIFORM (MPN/100ml) : Mean : < 2500 MPN/100ml        0\n",
       "NITRATE- N+ NITRITE-N (mg/l) : Mean                         0\n",
       "TEMPERATURE ºC : Mean                                       0\n",
       "TOTAL COLIFORM (MPN/100ml) : Mean : < 5000 MPN/100ml        0\n",
       "pH : Mean : 6.5-8.5                                         0\n",
       "B.O.D. (mg/l) : Mean : < 3 mg/l_imp                         0\n",
       "CONDUCTIVITY (µmhos/cm) : Mean_imp                          0\n",
       "FECAL COLIFORM (MPN/100ml) : Mean : < 2500 MPN/100ml_imp    0\n",
       "TEMPERATURE ºC : Mean_imp                                   0\n",
       "TOTAL COLIFORM (MPN/100ml) : Mean : < 5000 MPN/100ml_imp    0\n",
       "Agricultural Output                                         0\n",
       "dtype: int64"
      ]
     },
     "execution_count": 8,
     "metadata": {},
     "output_type": "execute_result"
    }
   ],
   "source": [
    "agri.isnull().sum()"
   ]
  },
  {
   "cell_type": "code",
   "execution_count": 9,
   "metadata": {},
   "outputs": [
    {
     "data": {
      "text/html": [
       "<div>\n",
       "<style scoped>\n",
       "    .dataframe tbody tr th:only-of-type {\n",
       "        vertical-align: middle;\n",
       "    }\n",
       "\n",
       "    .dataframe tbody tr th {\n",
       "        vertical-align: top;\n",
       "    }\n",
       "\n",
       "    .dataframe thead th {\n",
       "        text-align: right;\n",
       "    }\n",
       "</style>\n",
       "<table border=\"1\" class=\"dataframe\">\n",
       "  <thead>\n",
       "    <tr style=\"text-align: right;\">\n",
       "      <th></th>\n",
       "      <th>B.O.D. (mg/l) : Mean : &lt; 3 mg/l</th>\n",
       "      <th>CONDUCTIVITY (µmhos/cm) : Mean</th>\n",
       "      <th>FECAL COLIFORM (MPN/100ml) : Mean : &lt; 2500 MPN/100ml</th>\n",
       "      <th>NITRATE- N+ NITRITE-N (mg/l) : Mean</th>\n",
       "      <th>TEMPERATURE ºC : Mean</th>\n",
       "      <th>TOTAL COLIFORM (MPN/100ml) : Mean : &lt; 5000 MPN/100ml</th>\n",
       "      <th>pH : Mean : 6.5-8.5</th>\n",
       "      <th>B.O.D. (mg/l) : Mean : &lt; 3 mg/l_imp</th>\n",
       "      <th>CONDUCTIVITY (µmhos/cm) : Mean_imp</th>\n",
       "      <th>FECAL COLIFORM (MPN/100ml) : Mean : &lt; 2500 MPN/100ml_imp</th>\n",
       "      <th>TEMPERATURE ºC : Mean_imp</th>\n",
       "      <th>TOTAL COLIFORM (MPN/100ml) : Mean : &lt; 5000 MPN/100ml_imp</th>\n",
       "      <th>Agricultural Output</th>\n",
       "    </tr>\n",
       "  </thead>\n",
       "  <tbody>\n",
       "    <tr>\n",
       "      <th>count</th>\n",
       "      <td>11.000000</td>\n",
       "      <td>11.000000</td>\n",
       "      <td>11.000000</td>\n",
       "      <td>11.000000</td>\n",
       "      <td>11.000000</td>\n",
       "      <td>11.000000</td>\n",
       "      <td>11.000000</td>\n",
       "      <td>11.000000</td>\n",
       "      <td>11.000000</td>\n",
       "      <td>11.000000</td>\n",
       "      <td>11.000000</td>\n",
       "      <td>11.000000</td>\n",
       "      <td>11.000000</td>\n",
       "    </tr>\n",
       "    <tr>\n",
       "      <th>mean</th>\n",
       "      <td>2.223436</td>\n",
       "      <td>940.071394</td>\n",
       "      <td>1488.056407</td>\n",
       "      <td>2.562455</td>\n",
       "      <td>27.169064</td>\n",
       "      <td>3445.892102</td>\n",
       "      <td>7.219524</td>\n",
       "      <td>2.172750</td>\n",
       "      <td>939.745276</td>\n",
       "      <td>1530.834184</td>\n",
       "      <td>27.168526</td>\n",
       "      <td>3604.967010</td>\n",
       "      <td>3.813012</td>\n",
       "    </tr>\n",
       "    <tr>\n",
       "      <th>std</th>\n",
       "      <td>1.299690</td>\n",
       "      <td>448.492745</td>\n",
       "      <td>2848.537659</td>\n",
       "      <td>3.218680</td>\n",
       "      <td>2.545126</td>\n",
       "      <td>4192.900990</td>\n",
       "      <td>0.396005</td>\n",
       "      <td>1.255472</td>\n",
       "      <td>448.507864</td>\n",
       "      <td>2848.941317</td>\n",
       "      <td>2.545454</td>\n",
       "      <td>4254.269059</td>\n",
       "      <td>2.026838</td>\n",
       "    </tr>\n",
       "    <tr>\n",
       "      <th>min</th>\n",
       "      <td>0.893333</td>\n",
       "      <td>184.000000</td>\n",
       "      <td>235.790368</td>\n",
       "      <td>0.000000</td>\n",
       "      <td>23.844118</td>\n",
       "      <td>415.843538</td>\n",
       "      <td>6.509677</td>\n",
       "      <td>0.893333</td>\n",
       "      <td>184.000000</td>\n",
       "      <td>236.645161</td>\n",
       "      <td>23.844118</td>\n",
       "      <td>419.123729</td>\n",
       "      <td>1.692436</td>\n",
       "    </tr>\n",
       "    <tr>\n",
       "      <th>25%</th>\n",
       "      <td>1.150179</td>\n",
       "      <td>717.765233</td>\n",
       "      <td>344.823180</td>\n",
       "      <td>0.537553</td>\n",
       "      <td>25.219960</td>\n",
       "      <td>1307.735043</td>\n",
       "      <td>7.004605</td>\n",
       "      <td>1.150179</td>\n",
       "      <td>717.765233</td>\n",
       "      <td>358.316841</td>\n",
       "      <td>25.216706</td>\n",
       "      <td>1334.011360</td>\n",
       "      <td>2.370960</td>\n",
       "    </tr>\n",
       "    <tr>\n",
       "      <th>50%</th>\n",
       "      <td>1.931238</td>\n",
       "      <td>926.022177</td>\n",
       "      <td>666.062059</td>\n",
       "      <td>1.702941</td>\n",
       "      <td>27.066654</td>\n",
       "      <td>2388.657717</td>\n",
       "      <td>7.333333</td>\n",
       "      <td>1.917126</td>\n",
       "      <td>922.836645</td>\n",
       "      <td>715.089126</td>\n",
       "      <td>27.067244</td>\n",
       "      <td>2582.508114</td>\n",
       "      <td>2.879009</td>\n",
       "    </tr>\n",
       "    <tr>\n",
       "      <th>75%</th>\n",
       "      <td>2.748610</td>\n",
       "      <td>1124.848561</td>\n",
       "      <td>975.734623</td>\n",
       "      <td>3.229167</td>\n",
       "      <td>28.798936</td>\n",
       "      <td>3705.464747</td>\n",
       "      <td>7.464556</td>\n",
       "      <td>2.623894</td>\n",
       "      <td>1124.848561</td>\n",
       "      <td>1088.834101</td>\n",
       "      <td>28.798936</td>\n",
       "      <td>3997.747677</td>\n",
       "      <td>5.050900</td>\n",
       "    </tr>\n",
       "    <tr>\n",
       "      <th>max</th>\n",
       "      <td>4.467742</td>\n",
       "      <td>1896.666667</td>\n",
       "      <td>10023.157510</td>\n",
       "      <td>11.338710</td>\n",
       "      <td>31.350000</td>\n",
       "      <td>15497.818850</td>\n",
       "      <td>7.696774</td>\n",
       "      <td>4.467742</td>\n",
       "      <td>1896.666667</td>\n",
       "      <td>10057.389250</td>\n",
       "      <td>31.350000</td>\n",
       "      <td>15761.279100</td>\n",
       "      <td>8.258371</td>\n",
       "    </tr>\n",
       "  </tbody>\n",
       "</table>\n",
       "</div>"
      ],
      "text/plain": [
       "       B.O.D. (mg/l) : Mean : < 3 mg/l  CONDUCTIVITY (µmhos/cm) : Mean  \\\n",
       "count                        11.000000                       11.000000   \n",
       "mean                          2.223436                      940.071394   \n",
       "std                           1.299690                      448.492745   \n",
       "min                           0.893333                      184.000000   \n",
       "25%                           1.150179                      717.765233   \n",
       "50%                           1.931238                      926.022177   \n",
       "75%                           2.748610                     1124.848561   \n",
       "max                           4.467742                     1896.666667   \n",
       "\n",
       "       FECAL COLIFORM (MPN/100ml) : Mean : < 2500 MPN/100ml  \\\n",
       "count                                          11.000000      \n",
       "mean                                         1488.056407      \n",
       "std                                          2848.537659      \n",
       "min                                           235.790368      \n",
       "25%                                           344.823180      \n",
       "50%                                           666.062059      \n",
       "75%                                           975.734623      \n",
       "max                                         10023.157510      \n",
       "\n",
       "       NITRATE- N+ NITRITE-N (mg/l) : Mean  TEMPERATURE ºC : Mean  \\\n",
       "count                            11.000000              11.000000   \n",
       "mean                              2.562455              27.169064   \n",
       "std                               3.218680               2.545126   \n",
       "min                               0.000000              23.844118   \n",
       "25%                               0.537553              25.219960   \n",
       "50%                               1.702941              27.066654   \n",
       "75%                               3.229167              28.798936   \n",
       "max                              11.338710              31.350000   \n",
       "\n",
       "       TOTAL COLIFORM (MPN/100ml) : Mean : < 5000 MPN/100ml  \\\n",
       "count                                          11.000000      \n",
       "mean                                         3445.892102      \n",
       "std                                          4192.900990      \n",
       "min                                           415.843538      \n",
       "25%                                          1307.735043      \n",
       "50%                                          2388.657717      \n",
       "75%                                          3705.464747      \n",
       "max                                         15497.818850      \n",
       "\n",
       "       pH : Mean : 6.5-8.5  B.O.D. (mg/l) : Mean : < 3 mg/l_imp  \\\n",
       "count            11.000000                            11.000000   \n",
       "mean              7.219524                             2.172750   \n",
       "std               0.396005                             1.255472   \n",
       "min               6.509677                             0.893333   \n",
       "25%               7.004605                             1.150179   \n",
       "50%               7.333333                             1.917126   \n",
       "75%               7.464556                             2.623894   \n",
       "max               7.696774                             4.467742   \n",
       "\n",
       "       CONDUCTIVITY (µmhos/cm) : Mean_imp  \\\n",
       "count                           11.000000   \n",
       "mean                           939.745276   \n",
       "std                            448.507864   \n",
       "min                            184.000000   \n",
       "25%                            717.765233   \n",
       "50%                            922.836645   \n",
       "75%                           1124.848561   \n",
       "max                           1896.666667   \n",
       "\n",
       "       FECAL COLIFORM (MPN/100ml) : Mean : < 2500 MPN/100ml_imp  \\\n",
       "count                                          11.000000          \n",
       "mean                                         1530.834184          \n",
       "std                                          2848.941317          \n",
       "min                                           236.645161          \n",
       "25%                                           358.316841          \n",
       "50%                                           715.089126          \n",
       "75%                                          1088.834101          \n",
       "max                                         10057.389250          \n",
       "\n",
       "       TEMPERATURE ºC : Mean_imp  \\\n",
       "count                  11.000000   \n",
       "mean                   27.168526   \n",
       "std                     2.545454   \n",
       "min                    23.844118   \n",
       "25%                    25.216706   \n",
       "50%                    27.067244   \n",
       "75%                    28.798936   \n",
       "max                    31.350000   \n",
       "\n",
       "       TOTAL COLIFORM (MPN/100ml) : Mean : < 5000 MPN/100ml_imp  \\\n",
       "count                                          11.000000          \n",
       "mean                                         3604.967010          \n",
       "std                                          4254.269059          \n",
       "min                                           419.123729          \n",
       "25%                                          1334.011360          \n",
       "50%                                          2582.508114          \n",
       "75%                                          3997.747677          \n",
       "max                                         15761.279100          \n",
       "\n",
       "       Agricultural Output  \n",
       "count            11.000000  \n",
       "mean              3.813012  \n",
       "std               2.026838  \n",
       "min               1.692436  \n",
       "25%               2.370960  \n",
       "50%               2.879009  \n",
       "75%               5.050900  \n",
       "max               8.258371  "
      ]
     },
     "execution_count": 9,
     "metadata": {},
     "output_type": "execute_result"
    }
   ],
   "source": [
    "agri.describe()"
   ]
  },
  {
   "cell_type": "code",
   "execution_count": 10,
   "metadata": {},
   "outputs": [],
   "source": [
    "agri.rename(columns={'Agricultural Output':'Agricultural_Output'},inplace=True)"
   ]
  },
  {
   "cell_type": "code",
   "execution_count": 11,
   "metadata": {},
   "outputs": [],
   "source": [
    "Top_5 = agri.groupby(\"State\").Agricultural_Output.sum().nlargest(n =5)"
   ]
  },
  {
   "cell_type": "code",
   "execution_count": 12,
   "metadata": {
    "scrolled": true
   },
   "outputs": [
    {
     "data": {
      "text/plain": [
       "State\n",
       "uttar_pradesh_uttarakhand    8.258371\n",
       "west_bengal                  5.408575\n",
       "maharashtra                  5.274546\n",
       "punjab                       4.827254\n",
       "bihar                        4.479981\n",
       "Name: Agricultural_Output, dtype: float64"
      ]
     },
     "execution_count": 12,
     "metadata": {},
     "output_type": "execute_result"
    }
   ],
   "source": [
    "Top_5"
   ]
  },
  {
   "cell_type": "code",
   "execution_count": 13,
   "metadata": {},
   "outputs": [
    {
     "data": {
      "image/png": "[encoded data removed]",
      "text/plain": [
       "<Figure size 576x576 with 1 Axes>"
      ]
     },
     "metadata": {},
     "output_type": "display_data"
    }
   ],
   "source": [
    "plt.style.use('seaborn')\n",
    "Top_5.plot(kind ='bar', figsize =(8,8), fontsize =14,color= 'green')\n",
    "\n",
    "\n",
    "plt.show()"
   ]
  },
  {
   "cell_type": "code",
   "execution_count": 14,
   "metadata": {},
   "outputs": [],
   "source": [
    "agri.rename(columns={'TEMPERATURE şC : Min':'Temperature_Min','TEMPERATURE şC : Max':'Temperature_Max','TEMPERATURE şC : Mean':'Temperature_Mean'},inplace=True)"
   ]
  },
  {
   "cell_type": "code",
   "execution_count": 15,
   "metadata": {},
   "outputs": [],
   "source": [
    "agri.rename(columns={'CONDUCTIVITY (ľmhos/cm) : Min':'Conductivity_Min','CONDUCTIVITY (ľmhos/cm) : Max':'Conductivity_Max','CONDUCTIVITY (ľmhos/cm) : Mean':'Conductivity_Mean'},inplace=True)"
   ]
  },
  {
   "cell_type": "code",
   "execution_count": 16,
   "metadata": {},
   "outputs": [],
   "source": [
    "agri.rename(columns={'pH : Min : 6.5-8.5':'pH_Min','pH : Max : 6.5-8.5':'pH_Max','pH : Mean : 6.5-8.5':'pH_Mean'},inplace=True)"
   ]
  },
  {
   "cell_type": "code",
   "execution_count": 17,
   "metadata": {},
   "outputs": [],
   "source": [
    "agri.rename(columns={'B.O.D. (mg/l) : Min : < 3 mg/l':'BOD_Min','B.O.D. (mg/l) : Max : < 3 mg/l':'BOD_Max','B.O.D. (mg/l) : Mean : < 3 mg/l':'BOD_Mean'},inplace=True)"
   ]
  },
  {
   "cell_type": "code",
   "execution_count": 18,
   "metadata": {},
   "outputs": [],
   "source": [
    "agri.rename(columns={'NITRATE- N+ NITRITE-N (mg/l) : Min':'Nitrate_Min','NITRATE- N+ NITRITE-N (mg/l) : Max':'Nitatre_Max','NITRATE- N+ NITRITE-N (mg/l) : Mean':'Nitrate_Mean'},inplace=True)"
   ]
  },
  {
   "cell_type": "code",
   "execution_count": 19,
   "metadata": {},
   "outputs": [],
   "source": [
    "agri.rename(columns={'FECAL COLIFORM (MPN/100ml) : Min : < 2500 MPN/100ml':'Fecal_coliform_Min','FECAL COLIFORM (MPN/100ml) : Max : < 2500 MPN/100ml':'Fecal_coliform_Max','FECAL COLIFORM (MPN/100ml) : Mean : < 2500 MPN/100ml':'Fecal_coliform_Mean'},inplace=True)"
   ]
  },
  {
   "cell_type": "code",
   "execution_count": 20,
   "metadata": {},
   "outputs": [],
   "source": [
    "agri.rename(columns={'TOTAL COLIFORM (MPN/100ml) : Min : < 5000 MPN/100ml':'Total_coliform_Min','TOTAL COLIFORM (MPN/100ml) : Max : < 5000 MPN/100ml':'Total_coliform_Max','TOTAL COLIFORM (MPN/100ml) : Mean : < 5000 MPN/100ml':'Total_coliform_Mean'},inplace=True)"
   ]
  },
  {
   "cell_type": "code",
   "execution_count": 21,
   "metadata": {},
   "outputs": [
    {
     "data": {
      "text/plain": [
       "Index(['State', 'BOD_Mean', 'CONDUCTIVITY (µmhos/cm) : Mean',\n",
       "       'Fecal_coliform_Mean', 'Nitrate_Mean', 'TEMPERATURE ºC : Mean',\n",
       "       'Total_coliform_Mean', 'pH_Mean', 'B.O.D. (mg/l) : Mean : < 3 mg/l_imp',\n",
       "       'CONDUCTIVITY (µmhos/cm) : Mean_imp',\n",
       "       'FECAL COLIFORM (MPN/100ml) : Mean : < 2500 MPN/100ml_imp',\n",
       "       'TEMPERATURE ºC : Mean_imp',\n",
       "       'TOTAL COLIFORM (MPN/100ml) : Mean : < 5000 MPN/100ml_imp',\n",
       "       'Agricultural_Output'],\n",
       "      dtype='object')"
      ]
     },
     "execution_count": 21,
     "metadata": {},
     "output_type": "execute_result"
    }
   ],
   "source": [
    "agri.columns"
   ]
  },
  {
   "cell_type": "code",
   "execution_count": 22,
   "metadata": {},
   "outputs": [],
   "source": [
    "agri.drop(['B.O.D. (mg/l) : Mean : < 3 mg/l_imp',\n",
    "       'CONDUCTIVITY (µmhos/cm) : Mean_imp',\n",
    "       'FECAL COLIFORM (MPN/100ml) : Mean : < 2500 MPN/100ml_imp',\n",
    "       'TEMPERATURE ºC : Mean_imp',\n",
    "       'TOTAL COLIFORM (MPN/100ml) : Mean : < 5000 MPN/100ml_imp'],axis=1,inplace=True)"
   ]
  },
  {
   "cell_type": "code",
   "execution_count": 23,
   "metadata": {},
   "outputs": [
    {
     "data": {
      "text/plain": [
       "Index(['State', 'BOD_Mean', 'CONDUCTIVITY (µmhos/cm) : Mean',\n",
       "       'Fecal_coliform_Mean', 'Nitrate_Mean', 'TEMPERATURE ºC : Mean',\n",
       "       'Total_coliform_Mean', 'pH_Mean', 'Agricultural_Output'],\n",
       "      dtype='object')"
      ]
     },
     "execution_count": 23,
     "metadata": {},
     "output_type": "execute_result"
    }
   ],
   "source": [
    "agri.columns"
   ]
  },
  {
   "cell_type": "code",
   "execution_count": 24,
   "metadata": {},
   "outputs": [],
   "source": [
    "Top_5_tc = agri.groupby(\"State\").Total_coliform_Mean.sum().nlargest(n =5)"
   ]
  },
  {
   "cell_type": "code",
   "execution_count": 25,
   "metadata": {
    "scrolled": true
   },
   "outputs": [
    {
     "data": {
      "text/plain": [
       "State\n",
       "odisha                       15497.818850\n",
       "assam                         3947.258065\n",
       "punjab                        3927.107529\n",
       "tripura                       3483.821965\n",
       "uttar_pradesh_uttarakhand     3263.029744\n",
       "Name: Total_coliform_Mean, dtype: float64"
      ]
     },
     "execution_count": 25,
     "metadata": {},
     "output_type": "execute_result"
    }
   ],
   "source": [
    "Top_5_tc"
   ]
  },
  {
   "cell_type": "code",
   "execution_count": 30,
   "metadata": {},
   "outputs": [
    {
     "data": {
      "text/plain": [
       "<AxesSubplot:xlabel='Total_coliform_Mean', ylabel='Agricultural_Output'>"
      ]
     },
     "execution_count": 30,
     "metadata": {},
     "output_type": "execute_result"
    },
    {
     "data": {
      "image/png": "[encoded data removed]",
      "text/plain": [
       "<Figure size 576x396 with 1 Axes>"
      ]
     },
     "metadata": {},
     "output_type": "display_data"
    }
   ],
   "source": [
    "sns.scatterplot(x='Total_coliform_Mean',y='Agricultural_Output',data=agri)\n"
   ]
  },
  {
   "cell_type": "code",
   "execution_count": 31,
   "metadata": {
    "scrolled": false
   },
   "outputs": [
    {
     "data": {
      "text/plain": [
       "<AxesSubplot:xlabel='BOD_Mean', ylabel='Agricultural_Output'>"
      ]
     },
     "execution_count": 31,
     "metadata": {},
     "output_type": "execute_result"
    },
    {
     "data": {
      "image/png": "[encoded data removed]",
      "text/plain": [
       "<Figure size 576x396 with 1 Axes>"
      ]
     },
     "metadata": {},
     "output_type": "display_data"
    }
   ],
   "source": [
    "sns.scatterplot(x='BOD_Mean',y='Agricultural_Output',data=agri)"
   ]
  },
  {
   "cell_type": "code",
   "execution_count": 28,
   "metadata": {},
   "outputs": [],
   "source": [
    "agri.rename(columns={'CONDUCTIVITY (µmhos/cm) : Mean':'Conductivity_Mean'},inplace=True)"
   ]
  },
  {
   "cell_type": "code",
   "execution_count": 32,
   "metadata": {},
   "outputs": [
    {
     "data": {
      "text/plain": [
       "<AxesSubplot:xlabel='Conductivity_Mean', ylabel='Agricultural_Output'>"
      ]
     },
     "execution_count": 32,
     "metadata": {},
     "output_type": "execute_result"
    },
    {
     "data": {
      "image/png": "[encoded data removed]",
      "text/plain": [
       "<Figure size 576x396 with 1 Axes>"
      ]
     },
     "metadata": {},
     "output_type": "display_data"
    }
   ],
   "source": [
    "sns.scatterplot(x='Conductivity_Mean',y='Agricultural_Output',data=agri)"
   ]
  },
  {
   "cell_type": "code",
   "execution_count": 34,
   "metadata": {},
   "outputs": [
    {
     "data": {
      "text/plain": [
       "<AxesSubplot:xlabel='Fecal_coliform_Mean', ylabel='Agricultural_Output'>"
      ]
     },
     "execution_count": 34,
     "metadata": {},
     "output_type": "execute_result"
    },
    {
     "data": {
      "image/png": "[encoded data removed]",
      "text/plain": [
       "<Figure size 576x396 with 1 Axes>"
      ]
     },
     "metadata": {},
     "output_type": "display_data"
    }
   ],
   "source": [
    "sns.scatterplot(x='Fecal_coliform_Mean',y='Agricultural_Output',data=agri)"
   ]
  },
  {
   "cell_type": "code",
   "execution_count": 35,
   "metadata": {},
   "outputs": [
    {
     "data": {
      "text/plain": [
       "<AxesSubplot:xlabel='Nitrate_Mean', ylabel='Agricultural_Output'>"
      ]
     },
     "execution_count": 35,
     "metadata": {},
     "output_type": "execute_result"
    },
    {
     "data": {
      "image/png": "[encoded data removed]",
      "text/plain": [
       "<Figure size 576x396 with 1 Axes>"
      ]
     },
     "metadata": {},
     "output_type": "display_data"
    }
   ],
   "source": [
    "sns.scatterplot(x='Nitrate_Mean',y='Agricultural_Output',data=agri)"
   ]
  },
  {
   "cell_type": "code",
   "execution_count": 36,
   "metadata": {},
   "outputs": [
    {
     "data": {
      "text/plain": [
       "<AxesSubplot:xlabel='pH_Mean', ylabel='Agricultural_Output'>"
      ]
     },
     "execution_count": 36,
     "metadata": {},
     "output_type": "execute_result"
    },
    {
     "data": {
      "image/png": "[encoded data removed]",
      "text/plain": [
       "<Figure size 576x396 with 1 Axes>"
      ]
     },
     "metadata": {},
     "output_type": "display_data"
    }
   ],
   "source": [
    "sns.scatterplot(x='pH_Mean',y='Agricultural_Output',data=agri)"
   ]
  },
  {
   "cell_type": "code",
   "execution_count": 37,
   "metadata": {},
   "outputs": [
    {
     "data": {
      "text/plain": [
       "<AxesSubplot:xlabel='TEMPERATURE ºC : Mean', ylabel='Agricultural_Output'>"
      ]
     },
     "execution_count": 37,
     "metadata": {},
     "output_type": "execute_result"
    },
    {
     "data": {
      "image/png": "[encoded data removed]",
      "text/plain": [
       "<Figure size 576x396 with 1 Axes>"
      ]
     },
     "metadata": {},
     "output_type": "display_data"
    }
   ],
   "source": [
    "sns.scatterplot(x='TEMPERATURE ºC : Mean',y='Agricultural_Output',data=agri)"
   ]
  },
  {
   "cell_type": "code",
   "execution_count": null,
   "metadata": {},
   "outputs": [],
   "source": []
  }
 ],
 "metadata": {
  "kernelspec": {
   "display_name": "Python 3",
   "language": "python",
   "name": "python3"
  },
  "language_info": {
   "codemirror_mode": {
    "name": "ipython",
    "version": 3
   },
   "file_extension": ".py",
   "mimetype": "text/x-python",
   "name": "python",
   "nbconvert_exporter": "python",
   "pygments_lexer": "ipython3",
   "version": "3.8.5"
  }
 },
 "nbformat": 4,
 "nbformat_minor": 4
}
